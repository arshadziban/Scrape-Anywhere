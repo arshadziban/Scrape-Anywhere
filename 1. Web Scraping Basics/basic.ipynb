{
 "cells": [
  {
   "cell_type": "markdown",
   "id": "5b945480",
   "metadata": {},
   "source": [
    "# Web Scraping Basics\n",
    "\n",
    "Web scraping is a way to **automatically collect information from websites**.  \n",
    "Think of it as using a program to read a web page, just like your browser does, but instead of looking at it, the program grabs the data you want.\n",
    "\n",
    "---\n",
    "\n",
    "## Let’s break down your points:\n",
    "\n",
    "### a) Use `requests` to fetch pages\n",
    "\n",
    "#### What is `requests`?\n",
    "\n",
    "- `requests` is a **Python library** (tool) that helps your code download web pages from the internet.\n",
    "- Imagine typing a website address in your browser and hitting enter.  \n",
    "  `requests` lets your code do the **same thing**—it can visit websites and get the page data for you!"
   ]
  },
  {
   "cell_type": "markdown",
   "id": "b7d51d77",
   "metadata": {},
   "source": [
    "# Example"
   ]
  },
  {
   "cell_type": "code",
   "execution_count": 28,
   "id": "db8ecfff",
   "metadata": {},
   "outputs": [],
   "source": [
    "import requests"
   ]
  },
  {
   "cell_type": "code",
   "execution_count": 29,
   "id": "f2bd8ea4",
   "metadata": {},
   "outputs": [],
   "source": [
    "url = \"https://techsabyte.com/\""
   ]
  },
  {
   "cell_type": "code",
   "execution_count": 30,
   "id": "987a2337",
   "metadata": {},
   "outputs": [
    {
     "data": {
      "text/plain": [
       "'https://techsabyte.com/'"
      ]
     },
     "execution_count": 30,
     "metadata": {},
     "output_type": "execute_result"
    }
   ],
   "source": [
    "url"
   ]
  },
  {
   "cell_type": "code",
   "execution_count": 31,
   "id": "5b0d9577",
   "metadata": {},
   "outputs": [],
   "source": [
    "response = requests.get(url)"
   ]
  },
  {
   "cell_type": "code",
   "execution_count": 32,
   "id": "4a67ab84",
   "metadata": {},
   "outputs": [
    {
     "data": {
      "text/plain": [
       "'<!doctype html>\\n<html lang=\"en\">\\n  <head>\\n    <meta charset=\"UTF-8\" />\\n    <!-- <link rel=\"icon\" type=\"image/svg+xml\" href=\"/vite.svg\" /> -->\\n    <meta name=\"viewport\" content=\"width=device-width, initial-scale=1.0\" />\\n    <title>TechsaByte</title>\\n    <script type=\"module\" crossorigin src=\"/assets/index-C1pstMX7.js\"></script>\\n    <link rel=\"stylesheet\" crossorigin href=\"/assets/index-Dq-yZx2N.css\">\\n  </head>\\n  <body>\\n    <div id=\"root\"></div>\\n  </body>\\n</html>\\n'"
      ]
     },
     "execution_count": 32,
     "metadata": {},
     "output_type": "execute_result"
    }
   ],
   "source": [
    "response.text"
   ]
  },
  {
   "cell_type": "code",
   "execution_count": null,
   "id": "3f7b9c37",
   "metadata": {},
   "outputs": [],
   "source": []
  }
 ],
 "metadata": {
  "kernelspec": {
   "display_name": "env",
   "language": "python",
   "name": "python3"
  },
  "language_info": {
   "codemirror_mode": {
    "name": "ipython",
    "version": 3
   },
   "file_extension": ".py",
   "mimetype": "text/x-python",
   "name": "python",
   "nbconvert_exporter": "python",
   "pygments_lexer": "ipython3",
   "version": "3.11.0"
  }
 },
 "nbformat": 4,
 "nbformat_minor": 5
}
