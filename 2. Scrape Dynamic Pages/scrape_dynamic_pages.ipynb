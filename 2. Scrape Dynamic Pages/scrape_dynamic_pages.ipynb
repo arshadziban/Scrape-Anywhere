{
 "cells": [
  {
   "cell_type": "markdown",
   "id": "b46c6724",
   "metadata": {},
   "source": [
    "## What is a “Dynamic Page”?\n",
    "\n",
    "A **dynamic page** is a website where some or all of the content loads **after** the page appears, often using JavaScript.\n",
    "\n",
    "**Examples:**\n",
    "- Social media feeds\n",
    "- Infinite scroll\n",
    "- Content that appears only after you click or scroll\n",
    "\n",
    "---\n",
    "\n",
    "### Problem:\n",
    "\n",
    "- `requests` and BeautifulSoup can only see the **initial HTML**—they miss content loaded later with JavaScript.\n",
    "\n",
    "---\n",
    "\n",
    "### Solution:\n",
    "\n",
    "- We use a tool that controls a real web browser, just like a human.\n",
    "- **Selenium** is the most popular tool for this job."
   ]
  },
  {
   "cell_type": "markdown",
   "id": "d3156ee2",
   "metadata": {},
   "source": [
    "## Handle JavaScript-rendered Content with Selenium\n",
    "\n",
    "### What is Selenium?\n",
    "\n",
    "**Selenium** is a Python library that can:\n",
    "\n",
    "- Open a real browser window (like Chrome or Firefox)\n",
    "- Click buttons, scroll pages, type into boxes—anything a human can do!\n",
    "- Wait for content to load, then grab the new HTML\n",
    "\n",
    "### Why use Selenium?\n",
    "\n",
    "It lets you see and scrape the page after all the JavaScript has finished loading content."
   ]
  },
  {
   "cell_type": "markdown",
   "id": "3e19a963",
   "metadata": {},
   "source": [
    "### Setting up ChromeDriver\n",
    "\n",
    "1. Download ChromeDriver that matches your Chrome browser version\n",
    "2. Place the chromedriver file in your project folder\n",
    "    - **Alternatively:** Use the full file path in your code\n",
    "3. Make sure ChromeDriver is accessible in your system PATH"
   ]
  },
  {
   "cell_type": "code",
   "execution_count": 22,
   "id": "70629472",
   "metadata": {},
   "outputs": [],
   "source": [
    "from selenium import webdriver\n",
    "from selenium.webdriver.chrome.service import Service\n",
    "from selenium.webdriver.common.by import By\n",
    "import time\n",
    "import csv"
   ]
  },
  {
   "cell_type": "markdown",
   "id": "68de0ed0",
   "metadata": {},
   "source": [
    "## Required Packages\n",
    "\n",
    "- **selenium**: Controls the Chrome browser for automated web interactions\n",
    "- **webdriver**: The main Selenium module for browser automation \n",
    "- **Service**: Manages the ChromeDriver service configuration\n",
    "- **By**: Provides locator strategies for finding elements on a webpage\n",
    "- **time**: Enables script timing and delays for page loading\n",
    "- **csv**: Handles CSV file read/write operations\n",
    "\n",
    "Each package plays a specific role in setting up automated browser interactions and data handling.\n"
   ]
  },
  {
   "cell_type": "code",
   "execution_count": null,
   "id": "e4413571",
   "metadata": {},
   "outputs": [],
   "source": [
    "# Start Chrome browser\n",
    "service = Service('chromedriver.exe')  # Or full path like 'C:/path/to/chromedriver.exe'\n",
    "driver = webdriver.Chrome(service=service)\n",
    "\n",
    "base_url = \"website_url_here\"  # Replace with the actual URL of the book store\n",
    "driver.get(base_url)\n",
    "time.sleep(2)  # Wait for page to load\n",
    "\n",
    "with open(\"books.csv\", \"w\", newline='', encoding=\"utf-8\") as csvfile:\n",
    "    writer = csv.writer(csvfile)\n",
    "    writer.writerow([\"Title\", \"Price\", \"Rating\", \"Category\"])\n",
    "\n",
    "    while True:\n",
    "        books = driver.find_elements(By.CLASS_NAME, \"product_pod\")\n",
    "        for i, book in enumerate(books, 1):\n",
    "            # Title\n",
    "            title = book.find_element(By.TAG_NAME, \"h3\").find_element(By.TAG_NAME, \"a\").get_attribute(\"title\")\n",
    "            # Price\n",
    "            price = book.find_element(By.CLASS_NAME, \"price_color\").text\n",
    "            # Rating\n",
    "            rating_element = book.find_element(By.CLASS_NAME, \"star-rating\")\n",
    "            rating = rating_element.get_attribute(\"class\").split()[-1]\n",
    "            # Book link (full url)\n",
    "            book_link = book.find_element(By.TAG_NAME, \"h3\").find_element(By.TAG_NAME, \"a\").get_attribute(\"href\")\n",
    "\n",
    "            # Open the book's detail page\n",
    "            driver.get(book_link)\n",
    "            time.sleep(1)  # Wait for detail page to load\n",
    "\n",
    "            # Find the category (it's in breadcrumb nav, second <a> after 'Home')\n",
    "            category = driver.find_elements(By.CSS_SELECTOR, \".breadcrumb li a\")[2].text\n",
    "\n",
    "            # Write to CSV\n",
    "            writer.writerow([title, price, rating, category])\n",
    "\n",
    "            # Print progress\n",
    "            print(f\"Title    : {title}\")\n",
    "            print(f\"Price    : {price}\")\n",
    "            print(f\"Rating   : {rating}\")\n",
    "            print(f\"Category : {category}\")\n",
    "            print(\"-\" * 30)\n",
    "\n",
    "            # Go back to the main page\n",
    "            driver.back()\n",
    "            # time.sleep(1)\n",
    "\n",
    "        # After all books, check if there's a \"next\" button\n",
    "        try:\n",
    "            next_button = driver.find_element(By.CSS_SELECTOR, \"li.next a\")\n",
    "            next_button.click()\n",
    "            time.sleep(1)  # Wait for next page to load\n",
    "        except:\n",
    "            # No next button, break the loop\n",
    "            break\n",
    "\n",
    "driver.quit()"
   ]
  }
 ],
 "metadata": {
  "kernelspec": {
   "display_name": "env",
   "language": "python",
   "name": "python3"
  },
  "language_info": {
   "codemirror_mode": {
    "name": "ipython",
    "version": 3
   },
   "file_extension": ".py",
   "mimetype": "text/x-python",
   "name": "python",
   "nbconvert_exporter": "python",
   "pygments_lexer": "ipython3",
   "version": "3.11.0"
  }
 },
 "nbformat": 4,
 "nbformat_minor": 5
}
