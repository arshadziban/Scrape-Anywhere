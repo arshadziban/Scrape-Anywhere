{
 "cells": [
  {
   "cell_type": "markdown",
   "id": "b46c6724",
   "metadata": {},
   "source": [
    "## What is a “Dynamic Page”?\n",
    "\n",
    "A **dynamic page** is a website where some or all of the content loads **after** the page appears, often using JavaScript.\n",
    "\n",
    "**Examples:**\n",
    "- Social media feeds\n",
    "- Infinite scroll\n",
    "- Content that appears only after you click or scroll\n",
    "\n",
    "---\n",
    "\n",
    "### Problem:\n",
    "\n",
    "- `requests` and BeautifulSoup can only see the **initial HTML**—they miss content loaded later with JavaScript.\n",
    "\n",
    "---\n",
    "\n",
    "### Solution:\n",
    "\n",
    "- We use a tool that controls a real web browser, just like a human.\n",
    "- **Selenium** is the most popular tool for this job."
   ]
  },
  {
   "cell_type": "markdown",
   "id": "d3156ee2",
   "metadata": {},
   "source": [
    "## Handle JavaScript-rendered Content with Selenium\n",
    "\n",
    "### What is Selenium?\n",
    "\n",
    "**Selenium** is a Python library that can:\n",
    "\n",
    "- Open a real browser window (like Chrome or Firefox)\n",
    "- Click buttons, scroll pages, type into boxes—anything a human can do!\n",
    "- Wait for content to load, then grab the new HTML\n",
    "\n",
    "### Why use Selenium?\n",
    "\n",
    "It lets you see and scrape the page after all the JavaScript has finished loading content."
   ]
  },
  {
   "cell_type": "markdown",
   "id": "3e19a963",
   "metadata": {},
   "source": [
    "### Setting up ChromeDriver\n",
    "\n",
    "1. Download ChromeDriver that matches your Chrome browser version\n",
    "2. Place the chromedriver file in your project folder\n",
    "    - **Alternatively:** Use the full file path in your code\n",
    "3. Make sure ChromeDriver is accessible in your system PATH"
   ]
  },
  {
   "cell_type": "code",
   "execution_count": 1,
   "id": "70629472",
   "metadata": {},
   "outputs": [],
   "source": [
    "from selenium import webdriver\n",
    "from selenium.webdriver.chrome.service import Service\n",
    "from selenium.webdriver.common.by import By\n",
    "import time\n",
    "import csv"
   ]
  },
  {
   "cell_type": "code",
   "execution_count": null,
   "id": "da9b84d4",
   "metadata": {},
   "outputs": [],
   "source": []
  }
 ],
 "metadata": {
  "kernelspec": {
   "display_name": "env",
   "language": "python",
   "name": "python3"
  },
  "language_info": {
   "codemirror_mode": {
    "name": "ipython",
    "version": 3
   },
   "file_extension": ".py",
   "mimetype": "text/x-python",
   "name": "python",
   "nbconvert_exporter": "python",
   "pygments_lexer": "ipython3",
   "version": "3.11.0"
  }
 },
 "nbformat": 4,
 "nbformat_minor": 5
}
