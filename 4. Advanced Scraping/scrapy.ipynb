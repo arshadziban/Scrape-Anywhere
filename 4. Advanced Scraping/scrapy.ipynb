{
 "cells": [
  {
   "cell_type": "markdown",
   "id": "06e28c28",
   "metadata": {},
   "source": [
    "## What is Scrapy?\n",
    "\n",
    "**Scrapy** is a popular Python framework for web scraping and crawling.\n",
    "It lets you write small programs (called **spiders**) that automatically browse websites and collect data from many pages very quickly.\n",
    "\n",
    "**Why use Scrapy?**\n",
    "\n",
    "* It’s **fast** and **efficient** for big projects.\n",
    "* Handles things like requests, data extraction, and exporting data out of the box.\n",
    "* Easy to add advanced features (like pipelines and middlewares) as your project grows.\n",
    "\n",
    "**Real-life Example:**\n",
    "Imagine you want to collect the names and prices of all books from an online bookstore.\n",
    "With Scrapy, you can:\n",
    "\n",
    "* Tell it which website to visit.\n",
    "* Show it where to find the name and price on each page.\n",
    "* Scrapy will visit every book page, collect the data, and save it to a file for you—**automatically**.\n",
    "\n",
    "---\n",
    "\n",
    "## **Full Flow with Scrapy**\n",
    "\n",
    "Here’s how it all connects:\n",
    "\n",
    "1. **Scrapy Spider**: You write a spider that tells Scrapy what website to visit and what data to collect.\n",
    "2. **Pipelines**: Scrapy passes the collected data through pipelines to clean or save it.\n",
    "3. **Middlewares**: Scrapy uses middlewares to add extra rules (like delays, proxies, user-agent changes) while browsing.\n",
    "4. **Data Export**: Scrapy saves all your final, clean data into files (CSV, JSON, etc.), ready for you to use.\n",
    "\n",
    "---\n",
    "\n",
    "## Visual Diagram (Text Form)\n",
    "\n",
    "```\n",
    "[Website]\n",
    "    ↓\n",
    "[Scrapy Spider] → [Middlewares] → [Pipelines] → [Export File (CSV/JSON)]\n",
    "```\n",
    "\n",
    "---\n",
    "\n",
    "**In Short:**\n",
    "\n",
    "* **Scrapy** is the engine.\n",
    "* **Spider** does the crawling.\n",
    "* **Middlewares** are helpers on the way.\n",
    "* **Pipelines** clean and save the results.\n",
    "* **Data export** gives you the final output.\n"
   ]
  },
  {
   "cell_type": "markdown",
   "id": "abaad786",
   "metadata": {},
   "source": [
    "## Goal:\n",
    "I want to collect the title and price of all books from an online bookstore, and save them to a CSV file.\n"
   ]
  },
  {
   "cell_type": "code",
   "execution_count": 2,
   "id": "f9a52199",
   "metadata": {},
   "outputs": [],
   "source": [
    "import scrapy\n",
    "from scrapy.crawler import CrawlerProcess\n",
    "import pandas as pd"
   ]
  },
  {
   "cell_type": "code",
   "execution_count": null,
   "id": "543558b2",
   "metadata": {},
   "outputs": [],
   "source": [
    "# define teh spider\n",
    "class BooksSpider(scrapy.Spider):\n",
    "    name = \"books\"\n",
    "    start_urls = ['website']\n",
    "\n",
    "    def parse(self, response):\n",
    "        for book in response.css('article.product_pod'):\n",
    "            yield {\n",
    "                'title': book.css('h3 a::attr(title)').get(),\n",
    "                'price': book.css('p.price_color::text').get(),\n",
    "            }\n",
    "        next_page = response.css('li.next a::attr(href)').get()\n",
    "        if next_page:\n",
    "            yield response.follow(next_page, self.parse)"
   ]
  },
  {
   "cell_type": "code",
   "execution_count": 4,
   "id": "74e8eaf5",
   "metadata": {},
   "outputs": [],
   "source": [
    "# pipelines to clean the data\n",
    "results = []\n",
    "\n",
    "class StoreResultsPipeline:\n",
    "    def process_item(self, item, spider):\n",
    "        results.append(item)\n",
    "        return item\n"
   ]
  },
  {
   "cell_type": "code",
   "execution_count": 5,
   "id": "8a1ff345",
   "metadata": {},
   "outputs": [],
   "source": [
    "import nest_asyncio\n",
    "nest_asyncio.apply()"
   ]
  },
  {
   "cell_type": "code",
   "execution_count": null,
   "id": "1b4d62be",
   "metadata": {},
   "outputs": [],
   "source": [
    "process = CrawlerProcess({\n",
    "    'ITEM_PIPELINES': {'__main__.StoreResultsPipeline': 1}, # Use our custom pipeline\n",
    "    'LOG_ENABLED': False,  # Less output\n",
    "})\n",
    "process.crawl(BooksSpider)\n",
    "process.start()"
   ]
  },
  {
   "cell_type": "code",
   "execution_count": 8,
   "id": "ddf290b0",
   "metadata": {},
   "outputs": [],
   "source": [
    "df = pd.DataFrame(results)\n",
    "df['price'] = df['price'].str.replace('£', '')  "
   ]
  },
  {
   "cell_type": "code",
   "execution_count": 9,
   "id": "4580410f",
   "metadata": {},
   "outputs": [
    {
     "data": {
      "text/html": [
       "<div>\n",
       "<style scoped>\n",
       "    .dataframe tbody tr th:only-of-type {\n",
       "        vertical-align: middle;\n",
       "    }\n",
       "\n",
       "    .dataframe tbody tr th {\n",
       "        vertical-align: top;\n",
       "    }\n",
       "\n",
       "    .dataframe thead th {\n",
       "        text-align: right;\n",
       "    }\n",
       "</style>\n",
       "<table border=\"1\" class=\"dataframe\">\n",
       "  <thead>\n",
       "    <tr style=\"text-align: right;\">\n",
       "      <th></th>\n",
       "      <th>title</th>\n",
       "      <th>price</th>\n",
       "    </tr>\n",
       "  </thead>\n",
       "  <tbody>\n",
       "    <tr>\n",
       "      <th>0</th>\n",
       "      <td>A Light in the Attic</td>\n",
       "      <td>51.77</td>\n",
       "    </tr>\n",
       "    <tr>\n",
       "      <th>1</th>\n",
       "      <td>Tipping the Velvet</td>\n",
       "      <td>53.74</td>\n",
       "    </tr>\n",
       "    <tr>\n",
       "      <th>2</th>\n",
       "      <td>Soumission</td>\n",
       "      <td>50.10</td>\n",
       "    </tr>\n",
       "    <tr>\n",
       "      <th>3</th>\n",
       "      <td>Sharp Objects</td>\n",
       "      <td>47.82</td>\n",
       "    </tr>\n",
       "    <tr>\n",
       "      <th>4</th>\n",
       "      <td>Sapiens: A Brief History of Humankind</td>\n",
       "      <td>54.23</td>\n",
       "    </tr>\n",
       "  </tbody>\n",
       "</table>\n",
       "</div>"
      ],
      "text/plain": [
       "                                   title  price\n",
       "0                   A Light in the Attic  51.77\n",
       "1                     Tipping the Velvet  53.74\n",
       "2                             Soumission  50.10\n",
       "3                          Sharp Objects  47.82\n",
       "4  Sapiens: A Brief History of Humankind  54.23"
      ]
     },
     "execution_count": 9,
     "metadata": {},
     "output_type": "execute_result"
    }
   ],
   "source": [
    "df.head()"
   ]
  },
  {
   "cell_type": "code",
   "execution_count": 10,
   "id": "866f894e",
   "metadata": {},
   "outputs": [
    {
     "name": "stdout",
     "output_type": "stream",
     "text": [
      "Saved to books.csv!\n"
     ]
    }
   ],
   "source": [
    "df.to_csv('books.csv', index=False)\n",
    "print(\"Saved to books.csv!\")"
   ]
  },
  {
   "cell_type": "code",
   "execution_count": null,
   "id": "9d7a9679",
   "metadata": {},
   "outputs": [],
   "source": []
  }
 ],
 "metadata": {
  "kernelspec": {
   "display_name": "env",
   "language": "python",
   "name": "python3"
  },
  "language_info": {
   "codemirror_mode": {
    "name": "ipython",
    "version": 3
   },
   "file_extension": ".py",
   "mimetype": "text/x-python",
   "name": "python",
   "nbconvert_exporter": "python",
   "pygments_lexer": "ipython3",
   "version": "3.11.0"
  }
 },
 "nbformat": 4,
 "nbformat_minor": 5
}
